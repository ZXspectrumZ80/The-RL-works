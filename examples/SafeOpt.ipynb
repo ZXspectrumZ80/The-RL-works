{
 "cells": [
  {
   "cell_type": "markdown",
   "metadata": {
    "deletable": true,
    "editable": true
   },
   "source": [
    "# Using SafeOpt"
   ]
  },
  {
   "cell_type": "code",
   "execution_count": 1,
   "metadata": {
    "collapsed": false,
    "deletable": true,
    "editable": true
   },
   "outputs": [],
   "source": [
    "import GPy, safeopt\n",
    "\n",
    "from RLBench.algo import SafeOptSwarm\n",
    "from RLBench.envs import Quadrocopter, LinearCar\n",
    "from RLBench.policy import NonLinearQuadrocopterController, LinearPolicy\n",
    "\n",
    "from RLBench.measure import BestPerformance, SafetyMeasure\n",
    "\n",
    "from RLBench import Bench\n",
    "\n",
    "# set up logging\n",
    "from RLBench import config\n",
    "\n",
    "config.logger_set_level(config.INFO)\n",
    "config.logger_add_stream_handler()\n",
    "config.monitor_set_verbosity(2)"
   ]
  },
  {
   "cell_type": "markdown",
   "metadata": {},
   "source": [
    "#### Linear Car"
   ]
  },
  {
   "cell_type": "code",
   "execution_count": 2,
   "metadata": {
    "collapsed": false,
    "deletable": true,
    "editable": true
   },
   "outputs": [],
   "source": [
    "noise_var = 0.05 ** 2\n",
    "\n",
    "bounds = [(-1., 0.), (-1., 0.), (0., 1.)]\n",
    "\n",
    "algos = [(SafeOptSwarm, [{\n",
    "    'policy': LinearPolicy(2, 1, par=[-1, 0, 1]),\n",
    "    'kernel': GPy.kern.RBF(input_dim=len(bounds), variance=std**2, lengthscale=.4, ARD=True),\n",
    "    'likelihood': GPy.likelihoods.gaussian.Gaussian(variance=noise_var),\n",
    "    'max_it': 20,\n",
    "    'avg_reward': -20,\n",
    "    'window': 3,\n",
    "    'fmin': -100,\n",
    "    'bounds': bounds, \n",
    "    'info': std\n",
    "} for std in [30, 35, 40, 45, 50]])]\n",
    "\n",
    "envs = [(LinearCar, {})]\n",
    "\n",
    "bench = Bench.make_bench(algos, envs, [BestPerformance(), SafetyMeasure(-100)])"
   ]
  },
  {
   "cell_type": "code",
   "execution_count": 3,
   "metadata": {
    "collapsed": true,
    "deletable": true,
    "editable": true
   },
   "outputs": [
    {
     "name": "stdout",
     "output_type": "stream",
     "text": [
      "1916 - 2018-05-11 01:28:06,375 - RLBench.monitor - INFO - Starting optimization of SafeOptSwarm...\n"
     ]
    },
    {
     "name": "stderr",
     "output_type": "stream",
     "text": [
      "WARNING:root:Warning: 2 unsafe points removed. Model might be violated\n"
     ]
    },
    {
     "name": "stdout",
     "output_type": "stream",
     "text": [
      "1916 - 2018-05-11 01:28:19,830 - RLBench.monitor - INFO - Computing traces for SafeOptSwarm run...\n"
     ]
    },
    {
     "name": "stdout",
     "output_type": "stream",
     "text": [
      "1916 - 2018-05-11 01:28:20,123 - RLBench.monitor - INFO - Starting optimization of SafeOptSwarm...\n"
     ]
    }
   ],
   "source": [
    "bench()"
   ]
  },
  {
   "cell_type": "markdown",
   "metadata": {},
   "source": [
    "Below we output the results of the safety measure. List comprehension is used to get a more readable format for the\n",
    "tuples.\n",
    "The first element shows the standard deviation used, the second the number of violations and the last one the sum over\n",
    "all violations, just as documented in the `SafetyMeasure` class.\n",
    "\n",
    "We can see that increasing the standard deviation will ensure that the safty constraints will not be violated."
   ]
  },
  {
   "cell_type": "code",
   "execution_count": 4,
   "metadata": {
    "collapsed": false,
    "deletable": true,
    "editable": true
   },
   "outputs": [
    {
     "name": "stdout",
     "output_type": "stream",
     "text": [
      "[(30, 1, 1535.1940602232758), (35, 1, 1.2256673801121565), (40, 1, 2.252525021806804), (45, 1, 1.2200024660389488), (50, 0, 0)]\n"
     ]
    }
   ],
   "source": [
    "print([(t[0].alg_conf['info'], t[1], t[2]) for t in bench.measures[1].result])"
   ]
  },
  {
   "cell_type": "markdown",
   "metadata": {},
   "source": [
    "#### Quadrocopter"
   ]
  },
  {
   "cell_type": "code",
   "execution_count": 5,
   "metadata": {
    "collapsed": false,
    "deletable": true,
    "editable": true
   },
   "outputs": [],
   "source": [
    "noise_var = 0.05 ** 2\n",
    "\n",
    "# Set fixed Gaussian measurement noise\n",
    "likelihood = GPy.likelihoods.gaussian.Gaussian(variance=noise_var)\n",
    "\n",
    "# Bounds on the inputs variable\n",
    "bounds = [(0., 1.), (0., 1.), (0., 1.), (0., 1.), (0., 1.)]\n",
    "\n",
    "# Define Kernel\n",
    "kernel = GPy.kern.RBF(input_dim=len(bounds), variance=1000.*2, lengthscale=1.0, ARD=True)"
   ]
  },
  {
   "cell_type": "code",
   "execution_count": 6,
   "metadata": {
    "collapsed": false,
    "deletable": true,
    "editable": true
   },
   "outputs": [],
   "source": [
    "noise_var = 0.05 ** 2\n",
    "\n",
    "fmin = -2400\n",
    "\n",
    "# Bounds on the inputs variable\n",
    "# bounds = [(1e-2, .9), (1e-2, .9), (1e-1, .9), (.2, .7), (1e-2, .9)]\n",
    "bounds = [(1e-2, 1.), (1e-2, 1.), (1e-2, 1.), (1e-2, 1.), (1e-2, 1.)]\n",
    "\n",
    "algos = [(SafeOptSwarm, [{\n",
    "    'policy': NonLinearQuadrocopterController(),\n",
    "    'kernel': GPy.kern.RBF(input_dim=len(bounds), variance=std**2, lengthscale=0.2, ARD=True),\n",
    "    'likelihood': GPy.likelihoods.gaussian.Gaussian(variance=noise_var),\n",
    "    'max_it': 20,\n",
    "    'avg_reward': -1500,\n",
    "    'window': 3,\n",
    "    'fmin': fmin,\n",
    "    'bounds': bounds,\n",
    "    'swarm_size': 1000,\n",
    "    'info': std\n",
    "} for std in [1000, 1250, 1500, 1750, 2000]])]\n",
    "\n",
    "envs = [(Quadrocopter, {})]\n",
    "\n",
    "bench = Bench.make_bench(algos, envs, [BestPerformance(), SafetyMeasure(fmin)])"
   ]
  },
  {
   "cell_type": "code",
   "execution_count": 7,
   "metadata": {
    "collapsed": false,
    "deletable": true,
    "editable": true
   },
   "outputs": [
    {
     "name": "stdout",
     "output_type": "stream",
     "text": [
      "5434 - 2018-05-10 23:58:32,249 - SafeRLBench.monitor - INFO - Starting optimization of SafeOptSwarm...\n"
     ]
    },
    {
     "name": "stderr",
     "output_type": "stream",
     "text": [
      "WARNING:root:Warning: 1 unsafe points removed. Model might be violated\n"
     ]
    },
    {
     "name": "stderr",
     "output_type": "stream",
     "text": [
      "WARNING:root:Warning: 1 unsafe points removed. Model might be violated\n"
     ]
    },
    {
     "name": "stderr",
     "output_type": "stream",
     "text": [
      "WARNING:root:Warning: 1 unsafe points removed. Model might be violated\n"
     ]
    },
    {
     "name": "stderr",
     "output_type": "stream",
     "text": [
      "WARNING:root:Warning: 1 unsafe points removed. Model might be violated\n"
     ]
    },
    {
     "name": "stderr",
     "output_type": "stream",
     "text": [
      "WARNING:root:Warning: 1 unsafe points removed. Model might be violated\n"
     ]
    },
    {
     "name": "stderr",
     "output_type": "stream",
     "text": [
      "WARNING:root:Warning: 1 unsafe points removed. Model might be violated\n"
     ]
    },
    {
     "name": "stderr",
     "output_type": "stream",
     "text": [
      "WARNING:root:Warning: 1 unsafe points removed. Model might be violated\n"
     ]
    },
    {
     "name": "stdout",
     "output_type": "stream",
     "text": [
      "5434 - 2018-05-10 23:58:55,870 - SafeRLBench.monitor - INFO - Computing traces for SafeOptSwarm run...\n"
     ]
    },
    {
     "name": "stdout",
     "output_type": "stream",
     "text": [
      "5434 - 2018-05-10 23:59:05,358 - SafeRLBench.monitor - INFO - Starting optimization of SafeOptSwarm...\n"
     ]
    },
    {
     "name": "stderr",
     "output_type": "stream",
     "text": [
      "WARNING:root:Warning: 1 unsafe points removed. Model might be violated\n"
     ]
    },
    {
     "name": "stdout",
     "output_type": "stream",
     "text": [
      "5434 - 2018-05-10 23:59:28,485 - SafeRLBench.monitor - INFO - Computing traces for SafeOptSwarm run...\n"
     ]
    },
    {
     "name": "stdout",
     "output_type": "stream",
     "text": [
      "5434 - 2018-05-10 23:59:38,304 - SafeRLBench.monitor - INFO - Starting optimization of SafeOptSwarm...\n"
     ]
    },
    {
     "name": "stderr",
     "output_type": "stream",
     "text": [
      "WARNING:root:Warning: 1 unsafe points removed. Model might be violated\n"
     ]
    },
    {
     "name": "stdout",
     "output_type": "stream",
     "text": [
      "5434 - 2018-05-11 00:00:01,495 - SafeRLBench.monitor - INFO - Computing traces for SafeOptSwarm run...\n"
     ]
    },
    {
     "name": "stdout",
     "output_type": "stream",
     "text": [
      "5434 - 2018-05-11 00:00:12,244 - SafeRLBench.monitor - INFO - Starting optimization of SafeOptSwarm...\n"
     ]
    },
    {
     "name": "stdout",
     "output_type": "stream",
     "text": [
      "5434 - 2018-05-11 00:00:37,912 - SafeRLBench.monitor - INFO - Computing traces for SafeOptSwarm run...\n"
     ]
    },
    {
     "name": "stdout",
     "output_type": "stream",
     "text": [
      "5434 - 2018-05-11 00:00:49,124 - SafeRLBench.monitor - INFO - Starting optimization of SafeOptSwarm...\n"
     ]
    },
    {
     "name": "stdout",
     "output_type": "stream",
     "text": [
      "5434 - 2018-05-11 00:01:11,105 - SafeRLBench.monitor - INFO - Computing traces for SafeOptSwarm run...\n"
     ]
    }
   ],
   "source": [
    "bench()"
   ]
  },
  {
   "cell_type": "markdown",
   "metadata": {},
   "source": [
    "Below we output the results of the safety measure and performance. List comprehension is used to get a more readable format for the tuples.\n",
    "The first element shows the standard deviation used, the second the number of violations and the last one the sum over\n",
    "all violations, just as documented in the `SafetyMeasure` class."
   ]
  },
  {
   "cell_type": "code",
   "execution_count": 8,
   "metadata": {
    "collapsed": false,
    "deletable": true,
    "editable": true
   },
   "outputs": [],
   "source": [
    "print([(t[0].alg_conf['info'], t[1], t[2]) for t in bench.measures[1].result])"
   ]
  },
  {
   "cell_type": "code",
   "execution_count": 9,
   "metadata": {
    "collapsed": false
   },
   "outputs": [
    {
     "name": "stdout",
     "output_type": "stream",
     "text": [
      "[(1000, -1630), (1500, -1745), (1250, -1800), (1750, -1805), (2000, -1910)]\n"
     ]
    }
   ],
   "source": [
    "print([(t[0].alg_conf['info'], int(t[1])) for t in bench.measures[0].result])"
   ]
  },
  {
   "cell_type": "code",
   "execution_count": null,
   "metadata": {
    "collapsed": true
   },
   "outputs": [],
   "source": []
  }
 ],
 "metadata": {
  "kernelspec": {
   "display_name": "Python (py36-srb)",
   "language": "python",
   "name": "py36-srb"
  },
  "language_info": {
   "codemirror_mode": {
    "name": "ipython",
    "version": 3
   },
   "file_extension": ".py",
   "mimetype": "text/x-python",
   "name": "python",
   "nbconvert_exporter": "python",
   "pygments_lexer": "ipython3",
   "version": "3.6.1"
  }
 },
 "nbformat": 4,
 "nbformat_minor": 2
}
