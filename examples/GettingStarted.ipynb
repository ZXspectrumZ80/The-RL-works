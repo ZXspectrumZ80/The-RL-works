{
 "cells": [
  {
   "cell_type": "markdown",
   "metadata": {
    "deletable": true,
    "editable": true
   },
   "source": [
    "# Getting Started\n",
    "\n",
    "This is an Notebook containing the examples from the **Getting Started** section in the documentation. Refer to the documentation for very verbose description of this code."
   ]
  },
  {
   "cell_type": "markdown",
   "metadata": {
    "deletable": true,
    "editable": true
   },
   "source": [
    "### Optimizing a Policy"
   ]
  },
  {
   "cell_type": "code",
   "execution_count": 1,
   "metadata": {
    "collapsed": true,
    "deletable": true,
    "editable": true
   },
   "outputs": [],
   "source": [
    "# import the classes we need\n",
    "from RLBench.envs import LinearCar\n",
    "from RLBench.policy import LinearPolicy\n",
    "from RLBench.algo import PolicyGradient"
   ]
  },
  {
   "cell_type": "code",
   "execution_count": 2,
   "metadata": {
    "collapsed": false,
    "deletable": true,
    "editable": true
   },
   "outputs": [],
   "source": [
    "# get an instance of `LinearCar` with the default arguments.\n",
    "linear_car = LinearCar()\n",
    "# we need a policy which maps R^2 to R\n",
    "policy = LinearPolicy(2, 1)\n",
    "# setup parameters\n",
    "policy.parameters = [-1, -1, 1]\n",
    "\n",
    "# plug the environment and policy into the algorithm\n",
    "optimizer = PolicyGradient(linear_car, policy, estimator='central_fd')\n",
    "\n",
    "# run optimization\n",
    "optimizer.optimize()"
   ]
  },
  {
   "cell_type": "markdown",
   "metadata": {
    "deletable": true,
    "editable": true
   },
   "source": [
    "Lets take a look at what happened during the run. For this we can access the monitor and generate some plots. "
   ]
  },
  {
   "cell_type": "code",
   "execution_count": 3,
   "metadata": {
    "collapsed": false,
    "deletable": true,
    "editable": true
   },
   "outputs": [
    {
     "data": {
      "image/png": "[encoded data removed]",
      "text/plain": [
       "<Figure size 432x288 with 1 Axes>"
      ]
     },
     "metadata": {},
     "output_type": "display_data"
    }
   ],
   "source": [
    "import matplotlib.pyplot as plt\n",
    "\n",
    "y = optimizer.monitor.rewards\n",
    "\n",
    "plt.plot(range(len(y)), y)\n",
    "plt.show()"
   ]
  },
  {
   "cell_type": "markdown",
   "metadata": {
    "deletable": true,
    "editable": true
   },
   "source": [
    "### Configuration"
   ]
  },
  {
   "cell_type": "code",
   "execution_count": 4,
   "metadata": {
    "collapsed": true,
    "deletable": true,
    "editable": true
   },
   "outputs": [],
   "source": [
    "# import the configuration object\n",
    "from RLBench import config"
   ]
  },
  {
   "cell_type": "code",
   "execution_count": 5,
   "metadata": {
    "collapsed": true,
    "deletable": true,
    "editable": true
   },
   "outputs": [],
   "source": [
    "# setup stream handler\n",
    "config.logger_add_stream_handler()\n",
    "# setup logger level\n",
    "config.logger_set_level(config.DEBUG)\n",
    "# raise monitor verbosity\n",
    "config.monitor_set_verbosity(2)"
   ]
  },
  {
   "cell_type": "markdown",
   "metadata": {
    "deletable": true,
    "editable": true
   },
   "source": [
    "After changing these values, please run the cell which invokes `optimizer.optimize` again to see what happens."
   ]
  },
  {
   "cell_type": "markdown",
   "metadata": {
    "collapsed": true,
    "deletable": true,
    "editable": true
   },
   "source": [
    "### Benchmark"
   ]
  },
  {
   "cell_type": "code",
   "execution_count": 6,
   "metadata": {
    "collapsed": false,
    "deletable": true,
    "editable": true
   },
   "outputs": [],
   "source": [
    "# import the best performance measure\n",
    "from RLBench.measure import BestPerformance\n",
    "# import the Bench and BenchConfig\n",
    "from RLBench import Bench, BenchConfig"
   ]
  },
  {
   "cell_type": "code",
   "execution_count": 7,
   "metadata": {
    "collapsed": false,
    "deletable": true,
    "editable": true
   },
   "outputs": [
    {
     "ename": "AttributeError",
     "evalue": "'BenchConfig' object has no attribute 'jobs_set'",
     "traceback": [
      "\u001b[0;31m---------------------------------------------------------------------------\u001b[0m",
      "\u001b[0;31mAttributeError\u001b[0m                            Traceback (most recent call last)",
      "\u001b[0;32m<ipython-input-7-c0cdbab95605>\u001b[0m in \u001b[0;36m<module>\u001b[0;34m()\u001b[0m\n\u001b[1;32m     17\u001b[0m \u001b[0;34m\u001b[0m\u001b[0m\n\u001b[1;32m     18\u001b[0m \u001b[0;31m# configure to run in parallel\u001b[0m\u001b[0;34m\u001b[0m\u001b[0;34m\u001b[0m\u001b[0m\n\u001b[0;32m---> 19\u001b[0;31m \u001b[0mconfig\u001b[0m\u001b[0;34m.\u001b[0m\u001b[0mjobs_set\u001b[0m\u001b[0;34m(\u001b[0m\u001b[0;36m4\u001b[0m\u001b[0;34m)\u001b[0m\u001b[0;34m\u001b[0m\u001b[0m\n\u001b[0m",
      "\u001b[0;31mAttributeError\u001b[0m: 'BenchConfig' object has no attribute 'jobs_set'"
     ],
     "output_type": "error"
    }
   ],
   "source": [
    "# define environment configuration.\n",
    "envs = [[(LinearCar, {'horizon': 100})]]\n",
    "# define algorithms configuration.\n",
    "algs = [[\n",
    "  (PolicyGradient, [{\n",
    "    'policy': LinearPolicy(2, 1, par=[-1, -1, 1]),\n",
    "    'estimator': 'central_fd',\n",
    "    'var': var\n",
    "  } for var in [1, 1.5, 2, 2.5]])\n",
    "]]\n",
    "\n",
    "# instantiate BenchConfig\n",
    "config = BenchConfig(algs, envs)\n",
    "\n",
    "# instantiate the bench\n",
    "bench = Bench(config, BestPerformance())\n",
    "\n",
    "# configure to run in parallel\n",
    "config.jobs_set(4)"
   ]
  },
  {
   "cell_type": "code",
   "execution_count": 8,
   "metadata": {
    "collapsed": false,
    "deletable": true,
    "editable": true
   },
   "outputs": [
    {
     "name": "stdout",
     "output_type": "stream",
     "text": [
      "6781 - 2018-05-11 00:47:19,999 - RLBench.bench - DEBUG - Starting benchmarking.\n"
     ]
    },
    {
     "name": "stdout",
     "output_type": "stream",
     "text": [
      "6781 - 2018-05-11 00:47:20,006 - RLBench.bench - DEBUG - DISPATCH RUN:\n\n   Algorithm:   \n     PolicyGradient  \n    {  estimator :  central_fd  \n       policy : <RLBench.policy.linear_policy.LinearPolicy object at 0x7fd9380a6128> \n       var : 1}  \n   Environment:   \n    LinearCar   { horizon : 100}  \n\n"
     ]
    },
    {
     "name": "stdout",
     "output_type": "stream",
     "text": [
      "6781 - 2018-05-11 00:47:20,007 - RLBench.monitor - INFO - Starting optimization of PolicyGradient...\n"
     ]
    },
    {
     "name": "stdout",
     "output_type": "stream",
     "text": [
      "6781 - 2018-05-11 00:47:20,010 - RLBench.algo.policygradient - DEBUG - Initializing Policy.\n"
     ]
    },
    {
     "name": "stdout",
     "output_type": "stream",
     "text": [
      "6781 - 2018-05-11 00:47:20,014 - RLBench.algo.policygradient - DEBUG - Use pre-set policy parameters.\n"
     ]
    },
    {
     "name": "stdout",
     "output_type": "stream",
     "text": [
      "6781 - 2018-05-11 00:47:22,965 - RLBench.monitor - INFO - Status for PolicyGradient on LinearCar:\n\n\tRun: 100\tTime: 2.96\t Avg: 0.030\n\tParameter: \t[ -5.76145773 -20.85803422   5.65896126]\n\n"
     ]
    },
    {
     "name": "stdout",
     "output_type": "stream",
     "text": [
      "1587 - 2018-05-11 01:21:45,125 - RLBench.bench - DEBUG - Starting benchmarking.\n"
     ]
    },
    {
     "name": "stdout",
     "output_type": "stream",
     "text": [
      "1587 - 2018-05-11 01:21:45,136 - RLBench.bench - DEBUG - DISPATCH RUN:\n\n   Algorithm:   \n     PolicyGradient  \n    {  estimator :  central_fd  \n       policy : <RLBench.policy.linear_policy.LinearPolicy object at 0x7ff7fa688898> \n       var : 1}  \n   Environment:   \n    LinearCar   { horizon : 100}  \n\n"
     ]
    },
    {
     "name": "stdout",
     "output_type": "stream",
     "text": [
      "1587 - 2018-05-11 01:21:45,138 - RLBench.monitor - INFO - Starting optimization of PolicyGradient...\n"
     ]
    },
    {
     "name": "stdout",
     "output_type": "stream",
     "text": [
      "1587 - 2018-05-11 01:21:45,141 - RLBench.algo.policygradient - DEBUG - Initializing Policy.\n"
     ]
    },
    {
     "name": "stdout",
     "output_type": "stream",
     "text": [
      "1587 - 2018-05-11 01:21:45,145 - RLBench.algo.policygradient - DEBUG - Use pre-set policy parameters.\n"
     ]
    },
    {
     "name": "stdout",
     "output_type": "stream",
     "text": [
      "1587 - 2018-05-11 01:21:47,714 - RLBench.monitor - INFO - Status for PolicyGradient on LinearCar:\n\n\tRun: 100\tTime: 2.57\t Avg: 0.026\n\tParameter: \t[-3.20897158 -7.43357078  3.01244898]\n\n"
     ]
    },
    {
     "name": "stdout",
     "output_type": "stream",
     "text": [
      "1587 - 2018-05-11 01:21:50,257 - RLBench.monitor - INFO - Status for PolicyGradient on LinearCar:\n\n\tRun: 200\tTime: 5.12\t Avg: 0.026\n\tParameter: \t[ -3.66950041 -10.34878311   3.52228388]\n\n"
     ]
    },
    {
     "name": "stdout",
     "output_type": "stream",
     "text": [
      "1587 - 2018-05-11 01:21:52,538 - RLBench.monitor - INFO - Status for PolicyGradient on LinearCar:\n\n\tRun: 300\tTime: 7.40\t Avg: 0.025\n\tParameter: \t[ -4.04006914 -12.43634992   3.91258459]\n\n"
     ]
    },
    {
     "name": "stdout",
     "output_type": "stream",
     "text": [
      "1587 - 2018-05-11 01:21:55,065 - RLBench.monitor - INFO - Status for PolicyGradient on LinearCar:\n\n\tRun: 400\tTime: 9.92\t Avg: 0.025\n\tParameter: \t[ -4.39206706 -14.05190536   4.27300676]\n\n"
     ]
    },
    {
     "name": "stdout",
     "output_type": "stream",
     "text": [
      "1587 - 2018-05-11 01:21:57,450 - RLBench.monitor - INFO - Status for PolicyGradient on LinearCar:\n\n\tRun: 500\tTime: 12.31\t Avg: 0.025\n\tParameter: \t[ -4.64923245 -15.36576736   4.53544236]\n\n"
     ]
    },
    {
     "name": "stdout",
     "output_type": "stream",
     "text": [
      "1587 - 2018-05-11 01:21:59,602 - RLBench.monitor - INFO - Status for PolicyGradient on LinearCar:\n\n\tRun: 600\tTime: 14.46\t Avg: 0.024\n\tParameter: \t[ -4.88782412 -16.4978102    4.776765  ]\n\n"
     ]
    },
    {
     "name": "stdout",
     "output_type": "stream",
     "text": [
      "1587 - 2018-05-11 01:22:01,991 - RLBench.monitor - INFO - Status for PolicyGradient on LinearCar:\n\n\tRun: 700\tTime: 16.85\t Avg: 0.024\n\tParameter: \t[ -5.10240366 -17.46069535   4.99333682]\n\n"
     ]
    },
    {
     "name": "stdout",
     "output_type": "stream",
     "text": [
      "1587 - 2018-05-11 01:22:04,519 - RLBench.monitor - INFO - Status for PolicyGradient on LinearCar:\n\n\tRun: 800\tTime: 19.38\t Avg: 0.024\n\tParameter: \t[ -5.29499771 -18.3648855    5.18787811]\n\n"
     ]
    },
    {
     "name": "stdout",
     "output_type": "stream",
     "text": [
      "1587 - 2018-05-11 01:22:06,927 - RLBench.monitor - INFO - Status for PolicyGradient on LinearCar:\n\n\tRun: 900\tTime: 21.79\t Avg: 0.024\n\tParameter: \t[ -5.47461518 -19.23309998   5.36924103]\n\n"
     ]
    },
    {
     "name": "stdout",
     "output_type": "stream",
     "text": [
      "1587 - 2018-05-11 01:22:09,013 - RLBench.monitor - INFO - Status for PolicyGradient on LinearCar:\n\n\tRun: 1000\tTime: 23.87\t Avg: 0.024\n\tParameter: \t[ -5.64061296 -20.06487852   5.5367168 ]\n\n"
     ]
    },
    {
     "name": "stdout",
     "output_type": "stream",
     "text": [
      "1587 - 2018-05-11 01:22:09,022 - RLBench.monitor - DEBUG - Finished optimization after 1000 steps with grad [-0.00147796 -0.00813855  0.00148527].\n"
     ]
    },
    {
     "name": "stdout",
     "output_type": "stream",
     "text": [
      "1587 - 2018-05-11 01:22:09,023 - RLBench.monitor - INFO - Computing traces for PolicyGradient run...\n"
     ]
    },
    {
     "name": "stdout",
     "output_type": "stream",
     "text": [
      "1587 - 2018-05-11 01:22:12,948 - RLBench.bench - DEBUG - DISPATCH RUN:\n\n   Algorithm:   \n     PolicyGradient  \n    {  estimator :  central_fd  \n       policy : <RLBench.policy.linear_policy.LinearPolicy object at 0x7ff7fa6887b8> \n       var : 1.5}  \n   Environment:   \n    LinearCar   { horizon : 100}  \n\n"
     ]
    },
    {
     "name": "stdout",
     "output_type": "stream",
     "text": [
      "1587 - 2018-05-11 01:22:12,954 - RLBench.monitor - INFO - Starting optimization of PolicyGradient...\n"
     ]
    },
    {
     "name": "stdout",
     "output_type": "stream",
     "text": [
      "1587 - 2018-05-11 01:22:12,956 - RLBench.algo.policygradient - DEBUG - Initializing Policy.\n"
     ]
    },
    {
     "name": "stdout",
     "output_type": "stream",
     "text": [
      "1587 - 2018-05-11 01:22:12,960 - RLBench.algo.policygradient - DEBUG - Use pre-set policy parameters.\n"
     ]
    },
    {
     "name": "stdout",
     "output_type": "stream",
     "text": [
      "1587 - 2018-05-11 01:22:15,759 - RLBench.monitor - INFO - Status for PolicyGradient on LinearCar:\n\n\tRun: 100\tTime: 2.80\t Avg: 0.028\n\tParameter: \t[-3.87491805 -7.04451919  3.53221107]\n\n"
     ]
    },
    {
     "name": "stdout",
     "output_type": "stream",
     "text": [
      "1587 - 2018-05-11 01:22:17,968 - RLBench.monitor - INFO - Status for PolicyGradient on LinearCar:\n\n\tRun: 200\tTime: 5.01\t Avg: 0.025\n\tParameter: \t[ -4.48885835 -10.09037592   4.21657979]\n\n"
     ]
    },
    {
     "name": "stdout",
     "output_type": "stream",
     "text": [
      "1587 - 2018-05-11 01:22:20,422 - RLBench.monitor - INFO - Status for PolicyGradient on LinearCar:\n\n\tRun: 300\tTime: 7.47\t Avg: 0.025\n\tParameter: \t[ -5.00189749 -12.25916126   4.75854018]\n\n"
     ]
    },
    {
     "name": "stdout",
     "output_type": "stream",
     "text": [
      "1587 - 2018-05-11 01:22:23,204 - RLBench.monitor - INFO - Status for PolicyGradient on LinearCar:\n\n\tRun: 400\tTime: 10.25\t Avg: 0.026\n\tParameter: \t[ -5.39149769 -13.98929571   5.16413257]\n\n"
     ]
    },
    {
     "name": "stdout",
     "output_type": "stream",
     "text": [
      "1587 - 2018-05-11 01:22:27,979 - RLBench.monitor - INFO - Status for PolicyGradient on LinearCar:\n\n\tRun: 500\tTime: 15.02\t Avg: 0.030\n\tParameter: \t[ -5.70120792 -15.33294987   5.48116933]\n\n"
     ]
    },
    {
     "name": "stdout",
     "output_type": "stream",
     "text": [
      "1587 - 2018-05-11 01:22:32,209 - RLBench.monitor - INFO - Status for PolicyGradient on LinearCar:\n\n\tRun: 600\tTime: 19.25\t Avg: 0.032\n\tParameter: \t[ -5.98641675 -16.52612402   5.77206564]\n\n"
     ]
    },
    {
     "name": "stdout",
     "output_type": "stream",
     "text": [
      "1587 - 2018-05-11 01:22:35,727 - RLBench.monitor - INFO - Status for PolicyGradient on LinearCar:\n\n\tRun: 700\tTime: 22.77\t Avg: 0.033\n\tParameter: \t[ -6.25650226 -17.63693316   6.04782335]\n\n"
     ]
    },
    {
     "name": "stdout",
     "output_type": "stream",
     "text": [
      "1587 - 2018-05-11 01:22:39,958 - RLBench.monitor - INFO - Status for PolicyGradient on LinearCar:\n\n\tRun: 800\tTime: 27.00\t Avg: 0.034\n\tParameter: \t[ -6.51615934 -18.69562273   6.31344509]\n\n"
     ]
    },
    {
     "name": "stdout",
     "output_type": "stream",
     "text": [
      "1587 - 2018-05-11 01:22:44,143 - RLBench.monitor - INFO - Status for PolicyGradient on LinearCar:\n\n\tRun: 900\tTime: 31.19\t Avg: 0.035\n\tParameter: \t[ -6.76799919 -19.71534061   6.57109854]\n\n"
     ]
    },
    {
     "name": "stdout",
     "output_type": "stream",
     "text": [
      "1587 - 2018-05-11 01:22:48,465 - RLBench.monitor - INFO - Status for PolicyGradient on LinearCar:\n\n\tRun: 1000\tTime: 35.51\t Avg: 0.036\n\tParameter: \t[ -6.99575923 -20.70001622   6.80318749]\n\n"
     ]
    },
    {
     "name": "stdout",
     "output_type": "stream",
     "text": [
      "1587 - 2018-05-11 01:22:48,474 - RLBench.monitor - DEBUG - Finished optimization after 1000 steps with grad [-0.00192941 -0.00966073  0.00196576].\n"
     ]
    },
    {
     "name": "stdout",
     "output_type": "stream",
     "text": [
      "1587 - 2018-05-11 01:22:48,480 - RLBench.monitor - INFO - Computing traces for PolicyGradient run...\n"
     ]
    },
    {
     "name": "stdout",
     "output_type": "stream",
     "text": [
      "1587 - 2018-05-11 01:22:55,379 - RLBench.bench - DEBUG - DISPATCH RUN:\n\n   Algorithm:   \n     PolicyGradient  \n    {  estimator :  central_fd  \n       policy : <RLBench.policy.linear_policy.LinearPolicy object at 0x7ff7fa688cc0> \n       var : 2}  \n   Environment:   \n    LinearCar   { horizon : 100}  \n\n"
     ]
    },
    {
     "name": "stdout",
     "output_type": "stream",
     "text": [
      "1587 - 2018-05-11 01:22:55,384 - RLBench.monitor - INFO - Starting optimization of PolicyGradient...\n"
     ]
    },
    {
     "name": "stdout",
     "output_type": "stream",
     "text": [
      "1587 - 2018-05-11 01:22:55,388 - RLBench.algo.policygradient - DEBUG - Initializing Policy.\n"
     ]
    },
    {
     "name": "stdout",
     "output_type": "stream",
     "text": [
      "1587 - 2018-05-11 01:22:55,392 - RLBench.algo.policygradient - DEBUG - Use pre-set policy parameters.\n"
     ]
    },
    {
     "name": "stdout",
     "output_type": "stream",
     "text": [
      "1587 - 2018-05-11 01:22:58,831 - RLBench.monitor - INFO - Status for PolicyGradient on LinearCar:\n\n\tRun: 100\tTime: 3.44\t Avg: 0.034\n\tParameter: \t[-11.47724148  -4.04395078   7.43810346]\n\n"
     ]
    },
    {
     "name": "stdout",
     "output_type": "stream",
     "text": [
      "1587 - 2018-05-11 01:23:03,086 - RLBench.monitor - INFO - Status for PolicyGradient on LinearCar:\n\n\tRun: 200\tTime: 7.70\t Avg: 0.038\n\tParameter: \t[-10.12313073  -6.73420817   7.63648034]\n\n"
     ]
    },
    {
     "name": "stdout",
     "output_type": "stream",
     "text": [
      "1587 - 2018-05-11 01:23:06,999 - RLBench.monitor - INFO - Status for PolicyGradient on LinearCar:\n\n\tRun: 300\tTime: 11.61\t Avg: 0.039\n\tParameter: \t[-8.17013412 -9.78944649  7.18086936]\n\n"
     ]
    },
    {
     "name": "stdout",
     "output_type": "stream",
     "text": [
      "1587 - 2018-05-11 01:23:10,001 - RLBench.monitor - INFO - Status for PolicyGradient on LinearCar:\n\n\tRun: 400\tTime: 14.61\t Avg: 0.037\n\tParameter: \t[ -6.90546615 -12.54777251   6.45819559]\n\n"
     ]
    },
    {
     "name": "stdout",
     "output_type": "stream",
     "text": [
      "1587 - 2018-05-11 01:23:12,911 - RLBench.monitor - INFO - Status for PolicyGradient on LinearCar:\n\n\tRun: 500\tTime: 17.52\t Avg: 0.035\n\tParameter: \t[ -6.77150596 -14.45559359   6.39301858]\n\n"
     ]
    },
    {
     "name": "stdout",
     "output_type": "stream",
     "text": [
      "1587 - 2018-05-11 01:23:15,807 - RLBench.monitor - INFO - Status for PolicyGradient on LinearCar:\n\n\tRun: 600\tTime: 20.42\t Avg: 0.034\n\tParameter: \t[ -6.89571357 -15.93681387   6.55070141]\n\n"
     ]
    },
    {
     "name": "stdout",
     "output_type": "stream",
     "text": [
      "1587 - 2018-05-11 01:23:18,563 - RLBench.monitor - INFO - Status for PolicyGradient on LinearCar:\n\n\tRun: 700\tTime: 23.18\t Avg: 0.033\n\tParameter: \t[ -7.08282871 -17.17877386   6.75543372]\n\n"
     ]
    },
    {
     "name": "stdout",
     "output_type": "stream",
     "text": [
      "1587 - 2018-05-11 01:23:21,577 - RLBench.monitor - INFO - Status for PolicyGradient on LinearCar:\n\n\tRun: 800\tTime: 26.19\t Avg: 0.033\n\tParameter: \t[ -7.30296695 -18.2823516    6.98714002]\n\n"
     ]
    },
    {
     "name": "stdout",
     "output_type": "stream",
     "text": [
      "1587 - 2018-05-11 01:23:25,042 - RLBench.monitor - INFO - Status for PolicyGradient on LinearCar:\n\n\tRun: 900\tTime: 29.65\t Avg: 0.033\n\tParameter: \t[ -7.53263249 -19.29776137   7.22490299]\n\n"
     ]
    },
    {
     "name": "stdout",
     "output_type": "stream",
     "text": [
      "1587 - 2018-05-11 01:23:28,458 - RLBench.monitor - INFO - Status for PolicyGradient on LinearCar:\n\n\tRun: 1000\tTime: 33.07\t Avg: 0.033\n\tParameter: \t[ -7.7512192  -20.24921476   7.45155388]\n\n"
     ]
    },
    {
     "name": "stdout",
     "output_type": "stream",
     "text": [
      "1587 - 2018-05-11 01:23:28,464 - RLBench.monitor - DEBUG - Finished optimization after 1000 steps with grad [-0.00213403 -0.00928865  0.00221559].\n"
     ]
    },
    {
     "name": "stdout",
     "output_type": "stream",
     "text": [
      "1587 - 2018-05-11 01:23:28,467 - RLBench.monitor - INFO - Computing traces for PolicyGradient run...\n"
     ]
    },
    {
     "name": "stdout",
     "output_type": "stream",
     "text": [
      "1587 - 2018-05-11 01:23:34,907 - RLBench.bench - DEBUG - DISPATCH RUN:\n\n   Algorithm:   \n     PolicyGradient  \n    {  estimator :  central_fd  \n       policy : <RLBench.policy.linear_policy.LinearPolicy object at 0x7ff7fa688b70> \n       var : 2.5}  \n   Environment:   \n    LinearCar   { horizon : 100}  \n\n"
     ]
    },
    {
     "name": "stdout",
     "output_type": "stream",
     "text": [
      "1587 - 2018-05-11 01:23:34,914 - RLBench.monitor - INFO - Starting optimization of PolicyGradient...\n"
     ]
    },
    {
     "name": "stdout",
     "output_type": "stream",
     "text": [
      "1587 - 2018-05-11 01:23:34,915 - RLBench.algo.policygradient - DEBUG - Initializing Policy.\n"
     ]
    },
    {
     "name": "stdout",
     "output_type": "stream",
     "text": [
      "1587 - 2018-05-11 01:23:34,918 - RLBench.algo.policygradient - DEBUG - Use pre-set policy parameters.\n"
     ]
    },
    {
     "name": "stdout",
     "output_type": "stream",
     "text": [
      "1587 - 2018-05-11 01:23:37,987 - RLBench.monitor - INFO - Status for PolicyGradient on LinearCar:\n\n\tRun: 100\tTime: 3.07\t Avg: 0.031\n\tParameter: \t[-11.93632354  -4.11448061   7.72379045]\n\n"
     ]
    },
    {
     "name": "stdout",
     "output_type": "stream",
     "text": [
      "1587 - 2018-05-11 01:23:40,341 - RLBench.monitor - INFO - Status for PolicyGradient on LinearCar:\n\n\tRun: 200\tTime: 5.43\t Avg: 0.027\n\tParameter: \t[-10.88942034  -6.78861988   8.05003209]\n\n"
     ]
    },
    {
     "name": "stdout",
     "output_type": "stream",
     "text": [
      "1587 - 2018-05-11 01:23:42,662 - RLBench.monitor - INFO - Status for PolicyGradient on LinearCar:\n\n\tRun: 300\tTime: 7.75\t Avg: 0.026\n\tParameter: \t[-9.14854882 -9.45983002  7.72861185]\n\n"
     ]
    },
    {
     "name": "stdout",
     "output_type": "stream",
     "text": [
      "1587 - 2018-05-11 01:23:44,914 - RLBench.monitor - INFO - Status for PolicyGradient on LinearCar:\n\n\tRun: 400\tTime: 10.00\t Avg: 0.025\n\tParameter: \t[ -7.70598825 -12.39043101   7.09456638]\n\n"
     ]
    },
    {
     "name": "stdout",
     "output_type": "stream",
     "text": [
      "1587 - 2018-05-11 01:23:47,047 - RLBench.monitor - INFO - Status for PolicyGradient on LinearCar:\n\n\tRun: 500\tTime: 12.13\t Avg: 0.024\n\tParameter: \t[ -7.44448515 -14.46358434   6.95335318]\n\n"
     ]
    },
    {
     "name": "stdout",
     "output_type": "stream",
     "text": [
      "1587 - 2018-05-11 01:23:49,218 - RLBench.monitor - INFO - Status for PolicyGradient on LinearCar:\n\n\tRun: 600\tTime: 14.30\t Avg: 0.024\n\tParameter: \t[ -7.58113945 -16.09040416   7.12918976]\n\n"
     ]
    },
    {
     "name": "stdout",
     "output_type": "stream",
     "text": [
      "1587 - 2018-05-11 01:23:51,798 - RLBench.monitor - INFO - Status for PolicyGradient on LinearCar:\n\n\tRun: 700\tTime: 16.88\t Avg: 0.024\n\tParameter: \t[ -7.8306832  -17.46942082   7.39888141]\n\n"
     ]
    },
    {
     "name": "stdout",
     "output_type": "stream",
     "text": [
      "1587 - 2018-05-11 01:23:54,620 - RLBench.monitor - INFO - Status for PolicyGradient on LinearCar:\n\n\tRun: 800\tTime: 19.70\t Avg: 0.025\n\tParameter: \t[ -8.11085715 -18.72948796   7.69245951]\n\n"
     ]
    },
    {
     "name": "stdout",
     "output_type": "stream",
     "text": [
      "1587 - 2018-05-11 01:23:56,943 - RLBench.monitor - INFO - Status for PolicyGradient on LinearCar:\n\n\tRun: 900\tTime: 22.03\t Avg: 0.024\n\tParameter: \t[ -8.39411675 -19.86653635   7.98598895]\n\n"
     ]
    },
    {
     "name": "stdout",
     "output_type": "stream",
     "text": [
      "1587 - 2018-05-11 01:23:59,733 - RLBench.monitor - INFO - Status for PolicyGradient on LinearCar:\n\n\tRun: 1000\tTime: 24.82\t Avg: 0.025\n\tParameter: \t[ -8.66961965 -20.93316009   8.27049721]\n\n"
     ]
    },
    {
     "name": "stdout",
     "output_type": "stream",
     "text": [
      "1587 - 2018-05-11 01:23:59,739 - RLBench.monitor - DEBUG - Finished optimization after 1000 steps with grad [-0.0026918  -0.01043981  0.0027835 ].\n"
     ]
    },
    {
     "name": "stdout",
     "output_type": "stream",
     "text": [
      "1587 - 2018-05-11 01:23:59,740 - RLBench.monitor - INFO - Computing traces for PolicyGradient run...\n"
     ]
    }
   ],
   "source": [
    "bench()"
   ]
  },
  {
   "cell_type": "code",
   "execution_count": 9,
   "metadata": {
    "collapsed": false,
    "deletable": true,
    "editable": true
   },
   "outputs": [],
   "source": [
    "bench.measures[0]"
   ]
  },
  {
   "cell_type": "code",
   "execution_count": 10,
   "metadata": {
    "collapsed": false,
    "deletable": true,
    "editable": true
   },
   "outputs": [
    {
     "data": {
      "image/png": "[encoded data removed]",
      "text/plain": [
       "<Figure size 432x288 with 1 Axes>"
      ]
     },
     "metadata": {},
     "output_type": "display_data"
    },
    {
     "data": {
      "image/png": "[encoded data removed]",
      "text/plain": [
       "<Figure size 432x288 with 1 Axes>"
      ]
     },
     "metadata": {},
     "output_type": "display_data"
    },
    {
     "data": {
      "image/png": "[encoded data removed]",
      "text/plain": [
       "<Figure size 432x288 with 1 Axes>"
      ]
     },
     "metadata": {},
     "output_type": "display_data"
    }
   ],
   "source": [
    "best_run = bench.measures[0].result[0][0]\n",
    "monitor = best_run.get_alg_monitor()\n",
    "best_trace = monitor.traces[monitor.rewards.index(max(monitor.rewards))]\n",
    "y = [t[1][0] for t in best_trace]\n",
    "x = range(len(y))\n",
    "\n",
    "import matplotlib.pyplot as plt\n",
    "\n",
    "plt.plot(x, y)\n",
    "plt.show()"
   ]
  },
  {
   "cell_type": "code",
   "execution_count": 11,
   "metadata": {
    "collapsed": true,
    "deletable": true,
    "editable": true
   },
   "outputs": [],
   "source": []
  },
  {
   "cell_type": "code",
   "execution_count": null,
   "metadata": {},
   "outputs": [],
   "source": []
  }
 ],
 "metadata": {
  "kernelspec": {
   "display_name": "Python (py36-srb)",
   "language": "python",
   "name": "py36-srb"
  },
  "language_info": {
   "codemirror_mode": {
    "name": "ipython",
    "version": 3
   },
   "file_extension": ".py",
   "mimetype": "text/x-python",
   "name": "python",
   "nbconvert_exporter": "python",
   "pygments_lexer": "ipython3",
   "version": "3.6.1"
  }
 },
 "nbformat": 4,
 "nbformat_minor": 2
}
